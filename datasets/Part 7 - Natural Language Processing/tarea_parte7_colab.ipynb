{
  "cells": [
    {
      "cell_type": "markdown",
      "metadata": {
        "id": "KdUFcDsdzRyw"
      },
      "source": [
        "# Clonar repositorio"
      ]
    },
    {
      "cell_type": "code",
      "execution_count": null,
      "metadata": {
        "colab": {
          "base_uri": "https://localhost:8080/"
        },
        "id": "mHReFf3_y9ms",
        "outputId": "4b05bb7c-34c1-4767-d833-985b24a39e25"
      },
      "outputs": [
        {
          "output_type": "stream",
          "name": "stdout",
          "text": [
            "Cloning into 'machinelearning-az'...\n",
            "remote: Enumerating objects: 10505, done.\u001b[K\n",
            "remote: Total 10505 (delta 0), reused 0 (delta 0), pack-reused 10505\u001b[K\n",
            "Receiving objects: 100% (10505/10505), 311.57 MiB | 22.39 MiB/s, done.\n",
            "Resolving deltas: 100% (220/220), done.\n",
            "Checking out files: 100% (10250/10250), done.\n"
          ]
        }
      ],
      "source": [
        "!git clone https://github.com/joanby/machinelearning-az.git"
      ]
    },
    {
      "cell_type": "markdown",
      "metadata": {
        "id": "uab9OAbV8hYN"
      },
      "source": [
        "# Instalar sklearn"
      ]
    },
    {
      "cell_type": "code",
      "execution_count": null,
      "metadata": {
        "colab": {
          "base_uri": "https://localhost:8080/"
        },
        "id": "qukjDgj98kE4",
        "outputId": "665e7276-ff7c-4611-8dc5-94b9656a5d8e"
      },
      "outputs": [
        {
          "output_type": "stream",
          "name": "stdout",
          "text": [
            "Requirement already satisfied: sklearn in /usr/local/lib/python3.7/dist-packages (0.0)\n",
            "Requirement already satisfied: scikit-learn in /usr/local/lib/python3.7/dist-packages (from sklearn) (1.0.2)\n",
            "Requirement already satisfied: numpy>=1.14.6 in /usr/local/lib/python3.7/dist-packages (from scikit-learn->sklearn) (1.21.6)\n",
            "Requirement already satisfied: joblib>=0.11 in /usr/local/lib/python3.7/dist-packages (from scikit-learn->sklearn) (1.1.0)\n",
            "Requirement already satisfied: scipy>=1.1.0 in /usr/local/lib/python3.7/dist-packages (from scikit-learn->sklearn) (1.4.1)\n",
            "Requirement already satisfied: threadpoolctl>=2.0.0 in /usr/local/lib/python3.7/dist-packages (from scikit-learn->sklearn) (3.1.0)\n"
          ]
        }
      ],
      "source": [
        "!pip install sklearn"
      ]
    },
    {
      "cell_type": "markdown",
      "metadata": {
        "id": "v8OxSXXSz-OP"
      },
      "source": [
        "# Importar las librerías\n"
      ]
    },
    {
      "cell_type": "code",
      "execution_count": null,
      "metadata": {
        "id": "edZX51YLzs59"
      },
      "outputs": [],
      "source": [
        "import numpy as np\n",
        "import matplotlib.pyplot as plt\n",
        "import pandas as pd"
      ]
    },
    {
      "cell_type": "markdown",
      "metadata": {
        "id": "8XfXlqtF0B58"
      },
      "source": [
        "# Importar el dataset\n"
      ]
    },
    {
      "cell_type": "code",
      "execution_count": null,
      "metadata": {
        "id": "-nnozsHsz_-N"
      },
      "outputs": [],
      "source": [
        "dataset = pd.read_csv(\"https://raw.githubusercontent.com/joanby/machinelearning-az/master/datasets/Part%207%20-%20Natural%20Language%20Processing/Section%2036%20-%20Natural%20Language%20Processing/Restaurant_Reviews.tsv\", delimiter = \"\\t\", quoting = 3)"
      ]
    },
    {
      "cell_type": "markdown",
      "metadata": {
        "id": "SsVEdPzf4XmV"
      },
      "source": [
        "# Limpieza de texto"
      ]
    },
    {
      "cell_type": "code",
      "execution_count": null,
      "metadata": {
        "colab": {
          "base_uri": "https://localhost:8080/"
        },
        "id": "v9CtwK834bjy",
        "outputId": "2fc3887f-b4e5-4e19-c614-120fa239e93f"
      },
      "outputs": [
        {
          "output_type": "stream",
          "name": "stdout",
          "text": [
            "[nltk_data] Downloading package stopwords to /root/nltk_data...\n",
            "[nltk_data]   Unzipping corpora/stopwords.zip.\n"
          ]
        }
      ],
      "source": [
        "import re\n",
        "import nltk\n",
        "nltk.download('stopwords')\n",
        "from nltk.corpus import stopwords\n",
        "from nltk.stem.porter import PorterStemmer\n",
        "corpus = []\n",
        "for i in range(0, 1000):\n",
        "    review = re.sub('[^a-zA-Z]', ' ', dataset['Review'][i])\n",
        "    review = review.lower()\n",
        "    review = review.split()\n",
        "    ps = PorterStemmer()\n",
        "    review = [ps.stem(word) for word in review if not word in set(stopwords.words('english'))]\n",
        "    review = ' '.join(review)\n",
        "    corpus.append(review)"
      ]
    },
    {
      "cell_type": "markdown",
      "metadata": {
        "id": "5AH_uCEz68rb"
      },
      "source": [
        "# Crear el Bag of Words"
      ]
    },
    {
      "cell_type": "code",
      "execution_count": null,
      "metadata": {
        "id": "oeuAy8LI69vi"
      },
      "outputs": [],
      "source": [
        "from sklearn.feature_extraction.text import CountVectorizer\n",
        "cv = CountVectorizer(max_features = 1500)\n",
        "X = cv.fit_transform(corpus).toarray()\n",
        "y = dataset.iloc[:, 1].values"
      ]
    },
    {
      "cell_type": "markdown",
      "metadata": {
        "id": "cgweTaJ67BOB"
      },
      "source": [
        "# Dividir el data set en conjunto de entrenamiento y conjunto de testing"
      ]
    },
    {
      "cell_type": "code",
      "execution_count": null,
      "metadata": {
        "id": "HNMcYR0fhfil"
      },
      "outputs": [],
      "source": [
        "from sklearn.model_selection import train_test_split\n",
        "X_train, X_test, y_train, y_test = train_test_split(X, y, test_size = 0.20, random_state = 0)"
      ]
    },
    {
      "cell_type": "markdown",
      "source": [
        "# Predicción con distintos algoritmos de clasificación"
      ],
      "metadata": {
        "id": "-BgR-2bGoGHc"
      }
    },
    {
      "cell_type": "markdown",
      "metadata": {
        "id": "je3kcRlG7JV5"
      },
      "source": [
        "## Predicción de los resultados con el Conjunto de Testing con Naive Bayes"
      ]
    },
    {
      "cell_type": "code",
      "execution_count": null,
      "metadata": {
        "colab": {
          "base_uri": "https://localhost:8080/"
        },
        "id": "1qZ3wRR08Oar",
        "outputId": "34ffecf4-e67b-4f54-f5e6-763d889986d3"
      },
      "outputs": [
        {
          "output_type": "stream",
          "name": "stdout",
          "text": [
            "Accuracy = 0.73\n",
            "Precision = 0.57\n",
            "Recall = 0.82\n",
            "F1 Score = 0.67\n"
          ]
        }
      ],
      "source": [
        "from sklearn.naive_bayes import GaussianNB\n",
        "classifier = GaussianNB()\n",
        "classifier.fit(X_train, y_train)\n",
        "\n",
        "y_pred  = classifier.predict(X_test)\n",
        "\n",
        "from sklearn.metrics import confusion_matrix\n",
        "cm = confusion_matrix(y_test, y_pred)\n",
        "\n",
        "TP = cm[0][0]\n",
        "FP = cm[0][1]\n",
        "FN = cm[1][0]\n",
        "TN = cm[1][1]\n",
        "\n",
        "accuracy = (TP+TN)/(TP+TN+FP+FN)\n",
        "precision = TP/(TP+FP)\n",
        "recall = TP/(TP+FN)\n",
        "\n",
        "print('Accuracy = {:.2f}'.format(accuracy))\n",
        "print('Precision = {:.2f}'.format(precision))\n",
        "print('Recall = {:.2f}'.format(recall))\n",
        "print('F1 Score = {:.2f}'.format(2*precision*recall/(precision+recall)))"
      ]
    },
    {
      "cell_type": "markdown",
      "source": [
        "## Predicción de los resultados con el Conjunto de Testing con Logistic Regression"
      ],
      "metadata": {
        "id": "sHJ4BInSjWDJ"
      }
    },
    {
      "cell_type": "code",
      "source": [
        "# Ajustar el modelo de Regresion Logistica en el Conjunto de Entrenamiento\n",
        "from sklearn.linear_model import LogisticRegression\n",
        "classifier = LogisticRegression(random_state = 0)\n",
        "classifier.fit(X_train, y_train)\n",
        "\n",
        "# Prediccion de los resultados con el Conjunto de Testing\n",
        "y_pred = classifier.predict(X_test)\n",
        "\n",
        "# Elaborar una matriz de confusion\n",
        "from sklearn.metrics import confusion_matrix\n",
        "cm = confusion_matrix(y_test, y_pred)\n",
        "\n",
        "TP = cm[0][0]\n",
        "FP = cm[0][1]\n",
        "FN = cm[1][0]\n",
        "TN = cm[1][1]\n",
        "\n",
        "accuracy = (TP+TN)/(TP+TN+FP+FN)\n",
        "precision = TP/(TP+FP)\n",
        "recall = TP/(TP+FN)\n",
        "\n",
        "print('Accuracy = {:.2f}'.format(accuracy))\n",
        "print('Precision = {:.2f}'.format(precision))\n",
        "print('Recall = {:.2f}'.format(recall))\n",
        "print('F1 Score = {:.2f}'.format(2*precision*recall/(precision+recall)))"
      ],
      "metadata": {
        "colab": {
          "base_uri": "https://localhost:8080/"
        },
        "id": "Xd8r5P99i-Sp",
        "outputId": "9aa35316-563e-4e91-ac5b-7d5cee46c144"
      },
      "execution_count": null,
      "outputs": [
        {
          "output_type": "stream",
          "name": "stdout",
          "text": [
            "Accuracy = 0.71\n",
            "Precision = 0.78\n",
            "Recall = 0.67\n",
            "F1 Score = 0.72\n"
          ]
        }
      ]
    },
    {
      "cell_type": "markdown",
      "source": [
        "## Predicción de los resultados con el Conjunto de Testing con K-NN"
      ],
      "metadata": {
        "id": "dhbBOfHejnH9"
      }
    },
    {
      "cell_type": "code",
      "source": [
        "# Ajustar el K-NN en el Conjunto de Entrenamiento\n",
        "from sklearn.neighbors import KNeighborsClassifier\n",
        "classifier = KNeighborsClassifier(n_neighbors = 3, metric = 'minkowski', p = 2)\n",
        "classifier.fit(X_train, y_train)\n",
        "\n",
        "# Prediccion de los resultados con el Conjunto de Testing\n",
        "y_pred = classifier.predict(X_test)\n",
        "\n",
        "# Elaborar una matriz de confusion\n",
        "from sklearn.metrics import confusion_matrix\n",
        "cm = confusion_matrix(y_test, y_pred)\n",
        "\n",
        "TP = cm[0][0]\n",
        "FP = cm[0][1]\n",
        "FN = cm[1][0]\n",
        "TN = cm[1][1]\n",
        "\n",
        "accuracy = (TP+TN)/(TP+TN+FP+FN)\n",
        "precision = TP/(TP+FP)\n",
        "recall = TP/(TP+FN)\n",
        "\n",
        "print('Accuracy = {:.2f}'.format(accuracy))\n",
        "print('Precision = {:.2f}'.format(precision))\n",
        "print('Recall = {:.2f}'.format(recall))\n",
        "print('F1 Score = {:.2f}'.format(2*precision*recall/(precision+recall)))"
      ],
      "metadata": {
        "colab": {
          "base_uri": "https://localhost:8080/"
        },
        "id": "72ZUS5hsjrvM",
        "outputId": "70de9c07-858c-4e9d-b9e9-fed92b371df6"
      },
      "execution_count": null,
      "outputs": [
        {
          "output_type": "stream",
          "name": "stdout",
          "text": [
            "Accuracy = 0.67\n",
            "Precision = 0.82\n",
            "Recall = 0.62\n",
            "F1 Score = 0.70\n"
          ]
        }
      ]
    },
    {
      "cell_type": "markdown",
      "source": [
        "## Predicción de los resultados con el Conjunto de Testing con SVM"
      ],
      "metadata": {
        "id": "7gZStwiJjjtQ"
      }
    },
    {
      "cell_type": "code",
      "source": [
        "# Ajustar el SVM en el Conjunto de Entrenamiento\n",
        "from sklearn.svm import SVC\n",
        "classifier = SVC(kernel = 'linear', random_state = 0)\n",
        "classifier.fit(X_train, y_train)\n",
        "\n",
        "# Prediccion de los resultados con el Conjunto de Testing\n",
        "y_pred = classifier.predict(X_test)\n",
        "\n",
        "# Elaborar una matriz de confusion\n",
        "from sklearn.metrics import confusion_matrix\n",
        "cm = confusion_matrix(y_test, y_pred)\n",
        "\n",
        "TP = cm[0][0]\n",
        "FP = cm[0][1]\n",
        "FN = cm[1][0]\n",
        "TN = cm[1][1]\n",
        "\n",
        "accuracy = (TP+TN)/(TP+TN+FP+FN)\n",
        "precision = TP/(TP+FP)\n",
        "recall = TP/(TP+FN)\n",
        "\n",
        "print('Accuracy = {:.2f}'.format(accuracy))\n",
        "print('Precision = {:.2f}'.format(precision))\n",
        "print('Recall = {:.2f}'.format(recall))\n",
        "print('F1 Score = {:.2f}'.format(2*precision*recall/(precision+recall)))"
      ],
      "metadata": {
        "colab": {
          "base_uri": "https://localhost:8080/"
        },
        "id": "oqQDjC-ijc27",
        "outputId": "0d2a12fe-9345-4fe2-f335-158d82bab691"
      },
      "execution_count": null,
      "outputs": [
        {
          "output_type": "stream",
          "name": "stdout",
          "text": [
            "Accuracy = 0.72\n",
            "Precision = 0.76\n",
            "Recall = 0.69\n",
            "F1 Score = 0.73\n"
          ]
        }
      ]
    },
    {
      "cell_type": "markdown",
      "source": [
        "## Predicción de los resultados con el Conjunto de Testing con Kernel SVM"
      ],
      "metadata": {
        "id": "ZP-_lP18jzZ-"
      }
    },
    {
      "cell_type": "code",
      "source": [
        "# Ajustar el clasificador en el Conjunto de Entrenamiento\n",
        "from sklearn.svm import SVC\n",
        "classifier = SVC(kernel = 'rbf', random_state = 0)\n",
        "classifier.fit(X_train, y_train)\n",
        "\n",
        "# Prediccion de los resultados con el Conjunto de Testing\n",
        "y_pred = classifier.predict(X_test)\n",
        "\n",
        "# Elaborar una matriz de confusion\n",
        "from sklearn.metrics import confusion_matrix\n",
        "cm = confusion_matrix(y_test, y_pred)\n",
        "\n",
        "TP = cm[0][0]\n",
        "FP = cm[0][1]\n",
        "FN = cm[1][0]\n",
        "TN = cm[1][1]\n",
        "\n",
        "accuracy = (TP+TN)/(TP+TN+FP+FN)\n",
        "precision = TP/(TP+FP)\n",
        "recall = TP/(TP+FN)\n",
        "\n",
        "print('Accuracy = {:.2f}'.format(accuracy))\n",
        "print('Precision = {:.2f}'.format(precision))\n",
        "print('Recall = {:.2f}'.format(recall))\n",
        "print('F1 Score = {:.2f}'.format(2*precision*recall/(precision+recall)))"
      ],
      "metadata": {
        "colab": {
          "base_uri": "https://localhost:8080/"
        },
        "id": "TKMdIx4Kjymh",
        "outputId": "c61e03e4-8eac-4dac-94bc-2a888ea70434"
      },
      "execution_count": null,
      "outputs": [
        {
          "output_type": "stream",
          "name": "stdout",
          "text": [
            "Accuracy = 0.73\n",
            "Precision = 0.93\n",
            "Recall = 0.66\n",
            "F1 Score = 0.77\n"
          ]
        }
      ]
    },
    {
      "cell_type": "markdown",
      "source": [
        "## Predicción de los resultados con el Conjunto de Testing con Decission Tree"
      ],
      "metadata": {
        "id": "3ebKwYP0jY1v"
      }
    },
    {
      "cell_type": "code",
      "source": [
        "# Ajustar el clasificador de Arbol de Decision en el Conjunto de Entrenamiento\n",
        "from sklearn.tree import DecisionTreeClassifier\n",
        "classifier = DecisionTreeClassifier(criterion = 'entropy', random_state = 0)\n",
        "classifier.fit(X_train, y_train)\n",
        "\n",
        "# Prediccion de los resultados con el Conjunto de Testing\n",
        "y_pred = classifier.predict(X_test)\n",
        "\n",
        "# Elaborar una matriz de confusion\n",
        "from sklearn.metrics import confusion_matrix\n",
        "cm = confusion_matrix(y_test, y_pred)\n",
        "\n",
        "TP = cm[0][0]\n",
        "FP = cm[0][1]\n",
        "FN = cm[1][0]\n",
        "TN = cm[1][1]\n",
        "\n",
        "accuracy = (TP+TN)/(TP+TN+FP+FN)\n",
        "precision = TP/(TP+FP)\n",
        "recall = TP/(TP+FN)\n",
        "\n",
        "print('Accuracy = {:.2f}'.format(accuracy))\n",
        "print('Precision = {:.2f}'.format(precision))\n",
        "print('Recall = {:.2f}'.format(recall))\n",
        "print('F1 Score = {:.2f}'.format(2*precision*recall/(precision+recall)))"
      ],
      "metadata": {
        "colab": {
          "base_uri": "https://localhost:8080/"
        },
        "id": "JbAth5GXjH9u",
        "outputId": "03547aec-0d8a-4bbc-87fd-b70f56f895f1"
      },
      "execution_count": null,
      "outputs": [
        {
          "output_type": "stream",
          "name": "stdout",
          "text": [
            "Accuracy = 0.71\n",
            "Precision = 0.76\n",
            "Recall = 0.68\n",
            "F1 Score = 0.72\n"
          ]
        }
      ]
    },
    {
      "cell_type": "markdown",
      "source": [
        "## Predicción de los resultados con el Conjunto de Testing con Random Forest"
      ],
      "metadata": {
        "id": "mfxyMs1xkJoO"
      }
    },
    {
      "cell_type": "code",
      "source": [
        "# Ajustar el clasificador de Random Forest en el Conjunto de Entrenamiento\n",
        "from sklearn.ensemble import RandomForestClassifier\n",
        "classifier = RandomForestClassifier(n_estimators = 10, criterion = 'entropy', random_state = 0)\n",
        "classifier.fit(X_train, y_train)\n",
        "\n",
        "# Prediccion de los resultados con el Conjunto de Testing\n",
        "y_pred = classifier.predict(X_test)\n",
        "\n",
        "# Elaborar una matriz de confusion\n",
        "from sklearn.metrics import confusion_matrix\n",
        "cm = confusion_matrix(y_test, y_pred)\n",
        "\n",
        "TP = cm[0][0]\n",
        "FP = cm[0][1]\n",
        "FN = cm[1][0]\n",
        "TN = cm[1][1]\n",
        "\n",
        "accuracy = (TP+TN)/(TP+TN+FP+FN)\n",
        "precision = TP/(TP+FP)\n",
        "recall = TP/(TP+FN)\n",
        "\n",
        "print('Accuracy = {:.2f}'.format(accuracy))\n",
        "print('Precision = {:.2f}'.format(precision))\n",
        "print('Recall = {:.2f}'.format(recall))\n",
        "print('F1 Score = {:.2f}'.format(2*precision*recall/(precision+recall)))"
      ],
      "metadata": {
        "colab": {
          "base_uri": "https://localhost:8080/"
        },
        "id": "IBZYV-qlkGde",
        "outputId": "8a621c5a-dca0-4d60-a141-2fd34649d4a2"
      },
      "execution_count": null,
      "outputs": [
        {
          "output_type": "stream",
          "name": "stdout",
          "text": [
            "Accuracy = 0.72\n",
            "Precision = 0.90\n",
            "Recall = 0.65\n",
            "F1 Score = 0.76\n"
          ]
        }
      ]
    },
    {
      "cell_type": "markdown",
      "source": [
        "## Tabla de resultados\n",
        "\n",
        "|                     | Accuracy | Precission | Recall | F1 Score |\n",
        "|---------------------|:--------:|:----------:|:------:|:--------:|\n",
        "| Naïve Bayes         |   0.73   |    0.57    |  0.82  |   0.67   |\n",
        "| Logistic Regression |   0.71   |    0.78    |  0.67  |   0.72   |\n",
        "| K-NN                |   0.67   |    0.82    |  0.62  |   0.70   |\n",
        "| SVM                 |   0.72   |    0.76    |  0.69  |   0.73   |\n",
        "| Kernel SVM          |   0.73   |    0.93    |  0.66  |   0.77   |\n",
        "| Decission Tree      |   0.71   |    0.76    |  0.68  |   0.72   |\n",
        "| Random Forest       |   0.72   |    0.90    |  0.65  |   0.76   |\n",
        "\n",
        "Mejor resultado obtenido: **SVM con radial basis function kernel**"
      ],
      "metadata": {
        "id": "3EZuJ9jwm2vY"
      }
    }
  ],
  "metadata": {
    "colab": {
      "collapsed_sections": [
        "KdUFcDsdzRyw",
        "uab9OAbV8hYN",
        "v8OxSXXSz-OP",
        "8XfXlqtF0B58",
        "SsVEdPzf4XmV",
        "5AH_uCEz68rb",
        "cgweTaJ67BOB"
      ],
      "name": "tarea_parte7-colab.ipynb",
      "provenance": [],
      "toc_visible": true
    },
    "kernelspec": {
      "display_name": "Python 3",
      "language": "python",
      "name": "python3"
    },
    "language_info": {
      "codemirror_mode": {
        "name": "ipython",
        "version": 3
      },
      "file_extension": ".py",
      "mimetype": "text/x-python",
      "name": "python",
      "nbconvert_exporter": "python",
      "pygments_lexer": "ipython3",
      "version": "3.8.3"
    }
  },
  "nbformat": 4,
  "nbformat_minor": 0
}